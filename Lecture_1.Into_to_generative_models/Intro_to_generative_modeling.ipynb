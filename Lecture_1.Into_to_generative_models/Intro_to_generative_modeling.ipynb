{
 "cells": [
  {
   "cell_type": "code",
   "execution_count": 1,
   "id": "02ea2cc7",
   "metadata": {},
   "outputs": [],
   "source": [
    "import pandas\n",
    "import os\n",
    "from IPython.display import Image"
   ]
  },
  {
   "cell_type": "markdown",
   "id": "40095706",
   "metadata": {},
   "source": [
    "# Введение в генеративное моделирование"
   ]
  },
  {
   "cell_type": "markdown",
   "id": "99c8ca20",
   "metadata": {},
   "source": [
    "### Структура работы генеративной модели\n",
    "___Генеративная модель___ оценивает __p(x)__ — вероятность получения наблюдения x."
   ]
  },
  {
   "cell_type": "markdown",
   "id": "8fa970a3",
   "metadata": {},
   "source": [
    "![title](images/generationpipe.png)"
   ]
  },
  {
   "cell_type": "markdown",
   "id": "d63b63ee",
   "metadata": {},
   "source": [
    "### Прогресс в генерации лиц"
   ]
  },
  {
   "cell_type": "markdown",
   "id": "af387ce4",
   "metadata": {},
   "source": [
    "![title](images/progress.png)"
   ]
  },
  {
   "cell_type": "markdown",
   "id": "ff66173a",
   "metadata": {},
   "source": [
    "## Основы генеративного моделирования"
   ]
  },
  {
   "cell_type": "markdown",
   "id": "0905dbb4",
   "metadata": {},
   "source": [
    "Набор точек __X__ сгенерирован правилом _Pdata_.\n",
    "\n",
    "Возьмите на себя роль генеративной модели). Выбереnt точку _(x1, x2)_ чтобы она принадлежала расрпеделению _Pdata_.\n",
    "\n"
   ]
  },
  {
   "cell_type": "markdown",
   "id": "0711516a",
   "metadata": {},
   "source": [
    "![title](images/pdata.png)"
   ]
  },
  {
   "cell_type": "markdown",
   "id": "dc9e04cf",
   "metadata": {},
   "source": [
    "* Точка А нарушает правило 1 базовых принципов генеративного моделирования — ясно видно, что она не принадлежит распределению pdata, поскольку находится посреди моря.\n",
    "\n",
    "* Точка B настолько близко расположена от точки из исходного набора данных, что мы не впечатлены способностью модели создать такую точку. Если все образцы, сгенерированные моделью, будут расположены так же близко к точкам из исходного набора, то это можно считать нарушением правила 2 базовых принципов генеративного моделирования.\n",
    "\n",
    "* Точку C можно рассматривать как успех, потому что она вполне могла быть получена из распределения pdata и существенно отличается от всех точек в исходном наборе."
   ]
  },
  {
   "cell_type": "markdown",
   "id": "12c57594",
   "metadata": {},
   "source": [
    "![title](images/gtdata.png)"
   ]
  },
  {
   "cell_type": "markdown",
   "id": "034efbc2",
   "metadata": {},
   "source": [
    "### Немного определений"
   ]
  },
  {
   "cell_type": "markdown",
   "id": "97a417d8",
   "metadata": {},
   "source": [
    "![title](images/base_princ.png)\n",
    "![title](images/plotnost.png)\n",
    "![title](images/parammodel.png)\n",
    "![title](images/pravdopod.png)\n",
    "![title](images/maxpravd.png)"
   ]
  },
  {
   "cell_type": "markdown",
   "id": "8c3b6846",
   "metadata": {},
   "source": [
    "## Генератор стиля\n"
   ]
  },
  {
   "cell_type": "markdown",
   "id": "4d02c4d6",
   "metadata": {},
   "source": [
    "Даны примеры популярных стилей жителей города N. Необходимо сделать генератор новых стилей для них."
   ]
  },
  {
   "cell_type": "markdown",
   "id": "38848962",
   "metadata": {},
   "source": [
    "![title](images/style.png)"
   ]
  },
  {
   "cell_type": "markdown",
   "id": "78797087",
   "metadata": {},
   "source": [
    "Сделаем список различных элементов стиля:\n"
   ]
  },
  {
   "cell_type": "code",
   "execution_count": 15,
   "id": "deb8465a",
   "metadata": {},
   "outputs": [],
   "source": [
    "styles = {\n",
    "    'прическа':[\n",
    "        'нет волос',\n",
    "        'длинные в пучок',\n",
    "        'длинные волнистые',\n",
    "        'длинные прямые',\n",
    "        'короткая волнистые',\n",
    "        'короткая прямые',\n",
    "        'короткая курчавые'\n",
    "    ],\n",
    "    'цвет волос':[\n",
    "        'черный',\n",
    "        'блонд',\n",
    "        'каштановый',\n",
    "        'пастельный розовый',\n",
    "        'рыжий',\n",
    "        'серебристо серый',\n",
    "    ],\n",
    "    'аксесуар':[\n",
    "        'нет очков',\n",
    "        'круглые очки',\n",
    "        'солнцезащитные очки',\n",
    "    ],\n",
    "    'одежда':[\n",
    "        'худи',\n",
    "        'комбинезон',\n",
    "        'футболка с круглым вырезом',\n",
    "        'футболка с V-вырезом',\n",
    "    ],\n",
    "    'цвет одежды':[\n",
    "        'черный',\n",
    "        'синий',\n",
    "        'серый',\n",
    "        'зеленый',\n",
    "        'оранжевый',\n",
    "        'розовый',\n",
    "        'красный',\n",
    "        'белый'\n",
    "    ],\n",
    "}"
   ]
  },
  {
   "cell_type": "code",
   "execution_count": 22,
   "id": "a010afa0",
   "metadata": {},
   "outputs": [
    {
     "data": {
      "text/plain": [
       "4032"
      ]
     },
     "execution_count": 22,
     "metadata": {},
     "output_type": "execute_result"
    }
   ],
   "source": [
    "param_counts = 1\n",
    "for s in styles.values():\n",
    "    param_counts *= len(s)\n",
    "param_counts"
   ]
  },
  {
   "cell_type": "code",
   "execution_count": 1,
   "id": "f1176dd8",
   "metadata": {},
   "outputs": [],
   "source": [
    "styles_count = {\n",
    "    'прическа':[\n",
    "        7,\n",
    "        0,\n",
    "        1,\n",
    "        23,\n",
    "        1,\n",
    "        11,\n",
    "        7\n",
    "    ],\n",
    "    'цвет волос':[\n",
    "        7,\n",
    "        6,\n",
    "        2,\n",
    "        3,\n",
    "        8,\n",
    "        24,\n",
    "    ],\n",
    "    'аксесуар':[\n",
    "        11,\n",
    "        22,\n",
    "        17,\n",
    "    ],\n",
    "    'одежда':[\n",
    "        7,\n",
    "        18,\n",
    "        19,\n",
    "        6,\n",
    "    ],\n",
    "    'цвет одежды':[\n",
    "        4,\n",
    "        5,\n",
    "        6,\n",
    "        8,\n",
    "        6,\n",
    "        8,\n",
    "        7,\n",
    "        6\n",
    "    ],\n",
    "}"
   ]
  },
  {
   "cell_type": "code",
   "execution_count": 2,
   "id": "4acd2a46",
   "metadata": {},
   "outputs": [
    {
     "name": "stdout",
     "output_type": "stream",
     "text": [
      "прическа 50\n",
      "цвет волос 50\n",
      "аксесуар 50\n",
      "одежда 50\n",
      "цвет одежды 50\n"
     ]
    }
   ],
   "source": [
    "for k in styles_count.keys():\n",
    "    summ = 0\n",
    "    for s in styles_count[k]:\n",
    "        summ += s\n",
    "    print(k, summ)"
   ]
  },
  {
   "cell_type": "markdown",
   "id": "c5c6b0e2",
   "metadata": {},
   "source": [
    "Реализуйте следующие модели:"
   ]
  },
  {
   "cell_type": "markdown",
   "id": "f73d56ac",
   "metadata": {},
   "source": [
    "### Полиномиальная модель"
   ]
  },
  {
   "cell_type": "markdown",
   "id": "712ef186",
   "metadata": {},
   "source": [
    "![title](images/polynom.png)"
   ]
  },
  {
   "cell_type": "markdown",
   "id": "2fe92922",
   "metadata": {},
   "source": [
    "### Аддитивное сглаживание (MLE)"
   ]
  },
  {
   "cell_type": "markdown",
   "id": "efd96701",
   "metadata": {},
   "source": [
    "![title](images/MLE.png)"
   ]
  },
  {
   "cell_type": "markdown",
   "id": "c8897dbc",
   "metadata": {},
   "source": [
    "Подробные формулы для наивной байесовской модели с MLE:\n",
    "![title](images/formla1.png)\n",
    "![title](images/formula2.png)"
   ]
  },
  {
   "cell_type": "markdown",
   "id": "9283227d",
   "metadata": {},
   "source": [
    "### Полиномиальная модель с MLE для пикселей"
   ]
  },
  {
   "cell_type": "markdown",
   "id": "c557cd7d",
   "metadata": {},
   "source": [
    "![title](images/pixels.png)"
   ]
  },
  {
   "cell_type": "markdown",
   "id": "eb88c180",
   "metadata": {},
   "source": [
    "![title](images/style2.png)"
   ]
  },
  {
   "cell_type": "markdown",
   "id": "00ebac2b",
   "metadata": {},
   "source": [
    "![title](images/pixgen.png)"
   ]
  },
  {
   "cell_type": "markdown",
   "id": "ca1b945b",
   "metadata": {},
   "source": [
    "Как думаете почему наивная байесовская модель плохо справилась с задачей?"
   ]
  },
  {
   "cell_type": "markdown",
   "id": "1ce47803",
   "metadata": {},
   "source": [
    "#### Сложности генеративного моделирования\n",
    "\n",
    "* Как модель может справиться с высокой условной взаимозависимостью признаков?\n",
    "\n",
    "* Как модель может отыскать одну из крошечных пропорций, чтобы получить удовлетворительное наблюдение в многомерном выборочном пространстве?"
   ]
  },
  {
   "cell_type": "markdown",
   "id": "ec56903e",
   "metadata": {},
   "source": [
    "## Скрытое представление"
   ]
  },
  {
   "cell_type": "markdown",
   "id": "8afd45b3",
   "metadata": {},
   "source": [
    "Набор образцов тортов:\n",
    "    \n",
    "![title](images/tort1.png)"
   ]
  },
  {
   "cell_type": "markdown",
   "id": "5c600c52",
   "metadata": {},
   "source": [
    "А вот так выглядит скрытое представление всех возможных тортов:\n",
    "![title](images/tort2.png)    "
   ]
  },
  {
   "cell_type": "markdown",
   "id": "9e78fe4f",
   "metadata": {},
   "source": [
    "Опишите функцию __f__, если мин высота торта 5 у.е., мин радиус 3 у.е., макс высота торта 25 у.е., макс радиус 35 у.е."
   ]
  },
  {
   "cell_type": "markdown",
   "id": "fb0f0d1b",
   "metadata": {},
   "source": [
    "И последний пример скрытого представления:\n",
    "![title](images/latent.png)    "
   ]
  },
  {
   "cell_type": "code",
   "execution_count": null,
   "id": "ea945be4",
   "metadata": {},
   "outputs": [],
   "source": []
  }
 ],
 "metadata": {
  "kernelspec": {
   "display_name": "GAN_torch",
   "language": "python",
   "name": "python3"
  },
  "language_info": {
   "codemirror_mode": {
    "name": "ipython",
    "version": 3
   },
   "file_extension": ".py",
   "mimetype": "text/x-python",
   "name": "python",
   "nbconvert_exporter": "python",
   "pygments_lexer": "ipython3",
   "version": "3.8.8"
  },
  "vscode": {
   "interpreter": {
    "hash": "efa6b175a3f976e902beed879b12aaf219febe86dad37bcdf9bd8d858319c0ea"
   }
  }
 },
 "nbformat": 4,
 "nbformat_minor": 5
}
